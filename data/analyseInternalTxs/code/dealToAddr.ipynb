{
 "cells": [
  {
   "cell_type": "code",
   "execution_count": 1,
   "metadata": {},
   "outputs": [],
   "source": [
    "from asyncore import read\n",
    "from distutils.command.build_scripts import first_line_re\n",
    "from re import L, T\n",
    "import pandas as pd\n",
    "import datetime\n",
    "import numpy as np\n",
    "import csv    #加载csv包便于读取csv文件\n",
    "import zipfile\n",
    "import os\n",
    "import json\n",
    "import pickle\n"
   ]
  },
  {
   "cell_type": "code",
   "execution_count": 6,
   "metadata": {},
   "outputs": [
    {
     "data": {
      "text/html": [
       "<div>\n",
       "<style scoped>\n",
       "    .dataframe tbody tr th:only-of-type {\n",
       "        vertical-align: middle;\n",
       "    }\n",
       "\n",
       "    .dataframe tbody tr th {\n",
       "        vertical-align: top;\n",
       "    }\n",
       "\n",
       "    .dataframe thead th {\n",
       "        text-align: right;\n",
       "    }\n",
       "</style>\n",
       "<table border=\"1\" class=\"dataframe\">\n",
       "  <thead>\n",
       "    <tr style=\"text-align: right;\">\n",
       "      <th></th>\n",
       "      <th>address</th>\n",
       "      <th>mineIncome</th>\n",
       "    </tr>\n",
       "  </thead>\n",
       "  <tbody>\n",
       "    <tr>\n",
       "      <th>0</th>\n",
       "      <td>0x01ff6318440f7d5553a82294d78262d5f5084eff</td>\n",
       "      <td>2.188180e+20</td>\n",
       "    </tr>\n",
       "    <tr>\n",
       "      <th>1</th>\n",
       "      <td>0xd9e1ce17f2641f24ae83637ab66a2cca9c378b9f</td>\n",
       "      <td>8.795680e+19</td>\n",
       "    </tr>\n",
       "    <tr>\n",
       "      <th>2</th>\n",
       "      <td>0x0000006daea1723962647b7e189d311d757fb793</td>\n",
       "      <td>4.004738e+19</td>\n",
       "    </tr>\n",
       "    <tr>\n",
       "      <th>3</th>\n",
       "      <td>0x68b3465833fb72a70ecdf485e0e4c7bd8665fc45</td>\n",
       "      <td>1.334968e+19</td>\n",
       "    </tr>\n",
       "    <tr>\n",
       "      <th>4</th>\n",
       "      <td>0x7cf09d7a9a74f746edcb06949b9d64bcd9d1604f</td>\n",
       "      <td>1.747783e+21</td>\n",
       "    </tr>\n",
       "    <tr>\n",
       "      <th>5</th>\n",
       "      <td>0xdef171fe48cf0115b1d80b88dc8eab59176fee57</td>\n",
       "      <td>6.146859e+18</td>\n",
       "    </tr>\n",
       "    <tr>\n",
       "      <th>6</th>\n",
       "      <td>0xc358848e138ab73bd5b9ffcced25517f71101fb0</td>\n",
       "      <td>1.628416e+19</td>\n",
       "    </tr>\n",
       "    <tr>\n",
       "      <th>7</th>\n",
       "      <td>0x000000000035b5e5ad9019092c665357240f594e</td>\n",
       "      <td>2.982490e+21</td>\n",
       "    </tr>\n",
       "    <tr>\n",
       "      <th>8</th>\n",
       "      <td>0x1d6e8bac6ea3730825bde4b005ed7b2b39a2932d</td>\n",
       "      <td>3.777094e+21</td>\n",
       "    </tr>\n",
       "    <tr>\n",
       "      <th>9</th>\n",
       "      <td>0x2ae0d7d7e9c7880f01e530c731f21d49be179732</td>\n",
       "      <td>2.926488e+19</td>\n",
       "    </tr>\n",
       "  </tbody>\n",
       "</table>\n",
       "</div>"
      ],
      "text/plain": [
       "                                      address    mineIncome\n",
       "0  0x01ff6318440f7d5553a82294d78262d5f5084eff  2.188180e+20\n",
       "1  0xd9e1ce17f2641f24ae83637ab66a2cca9c378b9f  8.795680e+19\n",
       "2  0x0000006daea1723962647b7e189d311d757fb793  4.004738e+19\n",
       "3  0x68b3465833fb72a70ecdf485e0e4c7bd8665fc45  1.334968e+19\n",
       "4  0x7cf09d7a9a74f746edcb06949b9d64bcd9d1604f  1.747783e+21\n",
       "5  0xdef171fe48cf0115b1d80b88dc8eab59176fee57  6.146859e+18\n",
       "6  0xc358848e138ab73bd5b9ffcced25517f71101fb0  1.628416e+19\n",
       "7  0x000000000035b5e5ad9019092c665357240f594e  2.982490e+21\n",
       "8  0x1d6e8bac6ea3730825bde4b005ed7b2b39a2932d  3.777094e+21\n",
       "9  0x2ae0d7d7e9c7880f01e530c731f21d49be179732  2.926488e+19"
      ]
     },
     "execution_count": 6,
     "metadata": {},
     "output_type": "execute_result"
    }
   ],
   "source": [
    "normal=pd.read_csv('../data/csv/erc20/to/toNormalMap.csv')\n",
    "normal.sort_values(by=\"mineIncome\")\n",
    "normal.head(10)"
   ]
  },
  {
   "cell_type": "code",
   "execution_count": null,
   "metadata": {},
   "outputs": [],
   "source": []
  }
 ],
 "metadata": {
  "kernelspec": {
   "display_name": "Python 3.8.8 ('base')",
   "language": "python",
   "name": "python3"
  },
  "language_info": {
   "codemirror_mode": {
    "name": "ipython",
    "version": 3
   },
   "file_extension": ".py",
   "mimetype": "text/x-python",
   "name": "python",
   "nbconvert_exporter": "python",
   "pygments_lexer": "ipython3",
   "version": "3.8.8"
  },
  "orig_nbformat": 4,
  "vscode": {
   "interpreter": {
    "hash": "77ed5aa1c5bf07c099ec6dc71503cc4cd7097d21643b621481a430edbe4ae448"
   }
  }
 },
 "nbformat": 4,
 "nbformat_minor": 2
}
