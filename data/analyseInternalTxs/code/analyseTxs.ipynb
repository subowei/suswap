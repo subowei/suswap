{
 "cells": [
  {
   "cell_type": "code",
   "execution_count": 9,
   "id": "259fd11e",
   "metadata": {},
   "outputs": [],
   "source": [
    "import pandas as pd"
   ]
  },
  {
   "cell_type": "code",
   "execution_count": 10,
   "id": "a78a6c93",
   "metadata": {},
   "outputs": [],
   "source": [
    "df=pd.read_csv(\"../data/csv/txs.csv\")"
   ]
  },
  {
   "cell_type": "code",
   "execution_count": 11,
   "id": "f54675f9",
   "metadata": {},
   "outputs": [],
   "source": [
    "df=df.sort_values(by=['positionEdited'])"
   ]
  },
  {
   "cell_type": "code",
   "execution_count": 12,
   "id": "37ad9c3f",
   "metadata": {},
   "outputs": [],
   "source": [
    "df.to_csv(\"../data/csv/txs_sorted_byEdited.csv\")"
   ]
  },
  {
   "cell_type": "code",
   "execution_count": 13,
   "id": "092285a8",
   "metadata": {},
   "outputs": [
    {
     "data": {
      "text/html": [
       "<div>\n",
       "<style scoped>\n",
       "    .dataframe tbody tr th:only-of-type {\n",
       "        vertical-align: middle;\n",
       "    }\n",
       "\n",
       "    .dataframe tbody tr th {\n",
       "        vertical-align: top;\n",
       "    }\n",
       "\n",
       "    .dataframe thead th {\n",
       "        text-align: right;\n",
       "    }\n",
       "</style>\n",
       "<table border=\"1\" class=\"dataframe\">\n",
       "  <thead>\n",
       "    <tr style=\"text-align: right;\">\n",
       "      <th></th>\n",
       "      <th>transaction</th>\n",
       "      <th>blockNum</th>\n",
       "      <th>positionOriginal</th>\n",
       "      <th>positionEdited</th>\n",
       "    </tr>\n",
       "  </thead>\n",
       "  <tbody>\n",
       "    <tr>\n",
       "      <th>137</th>\n",
       "      <td>0xee955a92c4481b829aead5a543afeb4f50d54f1dccd6...</td>\n",
       "      <td>12977039</td>\n",
       "      <td>5</td>\n",
       "      <td>0</td>\n",
       "    </tr>\n",
       "    <tr>\n",
       "      <th>152</th>\n",
       "      <td>0x83afb72f9ecca6bfd32075e446b6fe57781937295d46...</td>\n",
       "      <td>12977039</td>\n",
       "      <td>7</td>\n",
       "      <td>1</td>\n",
       "    </tr>\n",
       "    <tr>\n",
       "      <th>372</th>\n",
       "      <td>0xf91cd312ed58e527483152176b61177bca9e01b7b63e...</td>\n",
       "      <td>12977039</td>\n",
       "      <td>8</td>\n",
       "      <td>2</td>\n",
       "    </tr>\n",
       "    <tr>\n",
       "      <th>342</th>\n",
       "      <td>0x385f073acfe7fda7a9a62b1dc244babb4416f1153f9c...</td>\n",
       "      <td>12977039</td>\n",
       "      <td>9</td>\n",
       "      <td>3</td>\n",
       "    </tr>\n",
       "    <tr>\n",
       "      <th>271</th>\n",
       "      <td>0x1a22e2f3e9b658a7041ced8266e87a073eaee52e3abd...</td>\n",
       "      <td>12977039</td>\n",
       "      <td>10</td>\n",
       "      <td>4</td>\n",
       "    </tr>\n",
       "    <tr>\n",
       "      <th>...</th>\n",
       "      <td>...</td>\n",
       "      <td>...</td>\n",
       "      <td>...</td>\n",
       "      <td>...</td>\n",
       "    </tr>\n",
       "    <tr>\n",
       "      <th>213</th>\n",
       "      <td>0x424ef84c758bbd8d196755b4df39c58176954d3d6511...</td>\n",
       "      <td>12977039</td>\n",
       "      <td>373</td>\n",
       "      <td>378</td>\n",
       "    </tr>\n",
       "    <tr>\n",
       "      <th>107</th>\n",
       "      <td>0x1c4cde6278d44bb634dcdc5fde731731dad28f6b7ed2...</td>\n",
       "      <td>12977039</td>\n",
       "      <td>374</td>\n",
       "      <td>379</td>\n",
       "    </tr>\n",
       "    <tr>\n",
       "      <th>92</th>\n",
       "      <td>0x2124d42bf2e0883b9f3b53c69a3d81b8bae3f6c716c3...</td>\n",
       "      <td>12977039</td>\n",
       "      <td>375</td>\n",
       "      <td>380</td>\n",
       "    </tr>\n",
       "    <tr>\n",
       "      <th>360</th>\n",
       "      <td>0x9c9aa8f2aa91e8190654b146a91b8806c178fa06d7cb...</td>\n",
       "      <td>12977039</td>\n",
       "      <td>379</td>\n",
       "      <td>381</td>\n",
       "    </tr>\n",
       "    <tr>\n",
       "      <th>99</th>\n",
       "      <td>0xc4a91693519ef345bb34643bec460106bfa18ac3390d...</td>\n",
       "      <td>12977039</td>\n",
       "      <td>380</td>\n",
       "      <td>382</td>\n",
       "    </tr>\n",
       "  </tbody>\n",
       "</table>\n",
       "<p>382 rows × 4 columns</p>\n",
       "</div>"
      ],
      "text/plain": [
       "                                           transaction  blockNum  \\\n",
       "137  0xee955a92c4481b829aead5a543afeb4f50d54f1dccd6...  12977039   \n",
       "152  0x83afb72f9ecca6bfd32075e446b6fe57781937295d46...  12977039   \n",
       "372  0xf91cd312ed58e527483152176b61177bca9e01b7b63e...  12977039   \n",
       "342  0x385f073acfe7fda7a9a62b1dc244babb4416f1153f9c...  12977039   \n",
       "271  0x1a22e2f3e9b658a7041ced8266e87a073eaee52e3abd...  12977039   \n",
       "..                                                 ...       ...   \n",
       "213  0x424ef84c758bbd8d196755b4df39c58176954d3d6511...  12977039   \n",
       "107  0x1c4cde6278d44bb634dcdc5fde731731dad28f6b7ed2...  12977039   \n",
       "92   0x2124d42bf2e0883b9f3b53c69a3d81b8bae3f6c716c3...  12977039   \n",
       "360  0x9c9aa8f2aa91e8190654b146a91b8806c178fa06d7cb...  12977039   \n",
       "99   0xc4a91693519ef345bb34643bec460106bfa18ac3390d...  12977039   \n",
       "\n",
       "     positionOriginal  positionEdited  \n",
       "137                 5               0  \n",
       "152                 7               1  \n",
       "372                 8               2  \n",
       "342                 9               3  \n",
       "271                10               4  \n",
       "..                ...             ...  \n",
       "213               373             378  \n",
       "107               374             379  \n",
       "92                375             380  \n",
       "360               379             381  \n",
       "99                380             382  \n",
       "\n",
       "[382 rows x 4 columns]"
      ]
     },
     "execution_count": 13,
     "metadata": {},
     "output_type": "execute_result"
    }
   ],
   "source": [
    "df"
   ]
  },
  {
   "cell_type": "code",
   "execution_count": null,
   "id": "e51a0d3c",
   "metadata": {},
   "outputs": [],
   "source": []
  }
 ],
 "metadata": {
  "kernelspec": {
   "display_name": "sbwpy3",
   "language": "python",
   "name": "sbwpy3"
  },
  "language_info": {
   "codemirror_mode": {
    "name": "ipython",
    "version": 3
   },
   "file_extension": ".py",
   "mimetype": "text/x-python",
   "name": "python",
   "nbconvert_exporter": "python",
   "pygments_lexer": "ipython3",
   "version": "3.8.12"
  }
 },
 "nbformat": 4,
 "nbformat_minor": 5
}
