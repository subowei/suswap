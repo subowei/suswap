{
 "cells": [
  {
   "cell_type": "code",
   "execution_count": 1,
   "id": "8a52fa78",
   "metadata": {},
   "outputs": [],
   "source": [
    "import pandas as pd"
   ]
  },
  {
   "cell_type": "code",
   "execution_count": null,
   "id": "ad9b9f12",
   "metadata": {},
   "outputs": [],
   "source": [
    "df=pd.read_csv(\"../data/csv/txs.csv\")"
   ]
  }
 ],
 "metadata": {
  "kernelspec": {
   "display_name": "sbwpy3",
   "language": "python",
   "name": "sbwpy3"
  },
  "language_info": {
   "codemirror_mode": {
    "name": "ipython",
    "version": 3
   },
   "file_extension": ".py",
   "mimetype": "text/x-python",
   "name": "python",
   "nbconvert_exporter": "python",
   "pygments_lexer": "ipython3",
   "version": "3.8.12"
  }
 },
 "nbformat": 4,
 "nbformat_minor": 5
}
