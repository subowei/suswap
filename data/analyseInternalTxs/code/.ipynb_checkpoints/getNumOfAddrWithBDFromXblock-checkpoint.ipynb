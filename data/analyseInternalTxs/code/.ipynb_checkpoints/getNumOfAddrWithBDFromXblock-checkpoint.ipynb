{
 "cells": [
  {
   "cell_type": "code",
   "execution_count": 75,
   "id": "184264b5",
   "metadata": {},
   "outputs": [],
   "source": [
    "import pandas as pd\n",
    "import numpy as np\n",
    "import csv\n",
    "import zipfile\n",
    "import pickle"
   ]
  },
  {
   "cell_type": "markdown",
   "id": "5d929da1",
   "metadata": {},
   "source": [
    "# 1.读取txs.csv文件，转换为list，后续方便使用"
   ]
  },
  {
   "cell_type": "code",
   "execution_count": 69,
   "id": "012f863b",
   "metadata": {},
   "outputs": [],
   "source": [
    "txsDf=pd.read_csv(\"../data/csv/txs.csv\")"
   ]
  },
  {
   "cell_type": "code",
   "execution_count": 70,
   "id": "c9f09c62",
   "metadata": {},
   "outputs": [
    {
     "data": {
      "text/html": [
       "<div>\n",
       "<style scoped>\n",
       "    .dataframe tbody tr th:only-of-type {\n",
       "        vertical-align: middle;\n",
       "    }\n",
       "\n",
       "    .dataframe tbody tr th {\n",
       "        vertical-align: top;\n",
       "    }\n",
       "\n",
       "    .dataframe thead th {\n",
       "        text-align: right;\n",
       "    }\n",
       "</style>\n",
       "<table border=\"1\" class=\"dataframe\">\n",
       "  <thead>\n",
       "    <tr style=\"text-align: right;\">\n",
       "      <th></th>\n",
       "      <th>transaction</th>\n",
       "    </tr>\n",
       "  </thead>\n",
       "  <tbody>\n",
       "    <tr>\n",
       "      <th>0</th>\n",
       "      <td>0x099fd8e75b7ae0918f999ecf661fc73ced212baa67a3...</td>\n",
       "    </tr>\n",
       "  </tbody>\n",
       "</table>\n",
       "</div>"
      ],
      "text/plain": [
       "                                         transaction\n",
       "0  0x099fd8e75b7ae0918f999ecf661fc73ced212baa67a3..."
      ]
     },
     "execution_count": 70,
     "metadata": {},
     "output_type": "execute_result"
    }
   ],
   "source": [
    "txsDf.head(1)"
   ]
  },
  {
   "cell_type": "code",
   "execution_count": 71,
   "id": "971e0ebc",
   "metadata": {},
   "outputs": [],
   "source": [
    "txsList=[]\n",
    "for index, row in txsDf.iterrows():\n",
    "    txsList.append(row[\"transaction\"])"
   ]
  },
  {
   "cell_type": "code",
   "execution_count": 73,
   "id": "b8ef2799",
   "metadata": {},
   "outputs": [
    {
     "data": {
      "text/plain": [
       "87870"
      ]
     },
     "execution_count": 73,
     "metadata": {},
     "output_type": "execute_result"
    }
   ],
   "source": [
    "len(txsList)"
   ]
  },
  {
   "cell_type": "markdown",
   "id": "a5b95271",
   "metadata": {},
   "source": [
    "# 2. 遍历xblock数据，找出与该交易相关的to地址，统计个数"
   ]
  },
  {
   "cell_type": "code",
   "execution_count": 66,
   "id": "dc532b7d",
   "metadata": {},
   "outputs": [],
   "source": [
    "fileDir = \"/mnt1/sbw/xblock/\";\n",
    "\n",
    "files = [\n",
    "     # \"10000000to10999999_NormalTransaction\"\n",
    "    \"11000000to11999999_InternalTransaction\",\n",
    "    \"internalTransaction/12000000to12999999_InternalTransaction\",\n",
    "    \"11000000to11999999_BlockTransaction\",\n",
    "    \"12000000to12999999_BlockTransaction\"\n",
    "];"
   ]
  },
  {
   "cell_type": "code",
   "execution_count": 67,
   "id": "1c64180e",
   "metadata": {},
   "outputs": [
    {
     "name": "stdout",
     "output_type": "stream",
     "text": [
      "0\n"
     ]
    },
    {
     "ename": "KeyboardInterrupt",
     "evalue": "",
     "output_type": "error",
     "traceback": [
      "\u001b[0;31m---------------------------------------------------------------------------\u001b[0m",
      "\u001b[0;31mKeyboardInterrupt\u001b[0m                         Traceback (most recent call last)",
      "\u001b[0;32m/tmp/ipykernel_22617/1558146165.py\u001b[0m in \u001b[0;36m<module>\u001b[0;34m\u001b[0m\n\u001b[1;32m     25\u001b[0m         \u001b[0mtransaction\u001b[0m\u001b[0;34m=\u001b[0m\u001b[0moneArray\u001b[0m\u001b[0;34m[\u001b[0m\u001b[0;36m2\u001b[0m\u001b[0;34m]\u001b[0m\u001b[0;34m\u001b[0m\u001b[0;34m\u001b[0m\u001b[0m\n\u001b[1;32m     26\u001b[0m \u001b[0;34m\u001b[0m\u001b[0m\n\u001b[0;32m---> 27\u001b[0;31m         \u001b[0;32mif\u001b[0m \u001b[0mtransaction\u001b[0m \u001b[0;32mnot\u001b[0m \u001b[0;32min\u001b[0m \u001b[0mtxsList\u001b[0m\u001b[0;34m:\u001b[0m\u001b[0;34m\u001b[0m\u001b[0;34m\u001b[0m\u001b[0m\n\u001b[0m\u001b[1;32m     28\u001b[0m             \u001b[0;32mcontinue\u001b[0m\u001b[0;34m\u001b[0m\u001b[0;34m\u001b[0m\u001b[0m\n\u001b[1;32m     29\u001b[0m \u001b[0;34m\u001b[0m\u001b[0m\n",
      "\u001b[0;31mKeyboardInterrupt\u001b[0m: "
     ]
    }
   ],
   "source": [
    "addrMap={}\n",
    "for file in files:\n",
    "    if file.find(\"InternalTransaction\")!=-1:\n",
    "        theZIP = zipfile.ZipFile(fileDir+\"internalTransaction/\"+file+\".zip\", 'r');\n",
    "    else:\n",
    "        theZIP = zipfile.ZipFile(fileDir+\"normalTransaction/\"+file+\".zip\", 'r');\n",
    "\n",
    "#     theZIP = zipfile.ZipFile(fileDir+file+\".zip\", 'r');\n",
    "    theCSV = theZIP.open(file+\".csv\");\n",
    "\n",
    "    head = theCSV.readline();\n",
    "\n",
    "    oneLine = theCSV.readline().decode(\"utf-8\").strip();\n",
    "    \n",
    "    isInternalTransaction=True\n",
    "    if file.find(\"InternalTransaction\")==-1:\n",
    "        isInternalTransaction=False\n",
    "    \n",
    "    a=0\n",
    "    while (oneLine!=\"\"):\n",
    "        if a%100000==0:\n",
    "            print(a)\n",
    "        a+=1\n",
    "        oneArray = oneLine.split(\",\");\n",
    "        transaction=oneArray[2]\n",
    "        \n",
    "        try:\n",
    "            value=txsMap[transaction]\n",
    "\n",
    "            if isInternalTransaction==False:\n",
    "                to=oneArray[4]\n",
    "            else:\n",
    "                to=oneArray[5]\n",
    "                \n",
    "            if to in addrMap.keys():\n",
    "                addrMap[to]+=1\n",
    "            else:\n",
    "                addrMap[to]=1\n",
    "                \n",
    "            oneLine = theCSV.readline().decode(\"utf-8\").strip()\n",
    "        except:\n",
    "            oneLine = theCSV.readline().decode(\"utf-8\").strip()\n",
    "            continue\n",
    "    with open(\"../data/dict/toAddrsAndCount_\"+file+\".pkl\", \"wb\") as tf:\n",
    "        pickle.dump(addrMap,tf)       "
   ]
  },
  {
   "cell_type": "code",
   "execution_count": null,
   "id": "a33978af",
   "metadata": {},
   "outputs": [],
   "source": [
    "with open(\"../data/dict/toAddrsAndCount.pkl\", \"wb\") as tf:\n",
    "    pickle.dump(addrMap,tf)"
   ]
  },
  {
   "cell_type": "code",
   "execution_count": 79,
   "id": "70ff8999",
   "metadata": {},
   "outputs": [],
   "source": [
    "addrMap={}\n",
    "with open(\"../data/dict/toAddrsAndCount_11000000to11999999_BlockTransaction.pkl\", \"rb\") as tf:\n",
    "    tempMap=pickle.load(tf)\n",
    "    addrMap.update(tempMap)\n",
    "with open(\"../data/dict/toAddrsAndCount_11000000to11999999_InternalTransaction.pkl\", \"rb\") as tf:\n",
    "    tempMap=pickle.load(tf)\n",
    "    addrMap.update(tempMap)\n",
    "with open(\"../data/dict/toAddrsAndCount_12000000to12999999_BlockTransaction.pkl\", \"rb\") as tf:\n",
    "    tempMap=pickle.load(tf)\n",
    "    addrMap.update(tempMap)\n",
    "with open(\"../data/dict/toAddrsAndCount_12000000to12999999_InternalTransaction.pkl\", \"rb\") as tf:\n",
    "    tempMap=pickle.load(tf)\n",
    "    addrMap.update(tempMap)"
   ]
  },
  {
   "cell_type": "code",
   "execution_count": 82,
   "id": "afe63ecf",
   "metadata": {},
   "outputs": [],
   "source": [
    "with open(\"../data/dict/toAddrsAndCount.pkl\", \"wb\") as tf:\n",
    "    pickle.dump(addrMap,tf)"
   ]
  },
  {
   "cell_type": "markdown",
   "id": "8a1a1598",
   "metadata": {},
   "source": [
    "# 3.将结果2绘制为pandas格式"
   ]
  },
  {
   "cell_type": "code",
   "execution_count": 110,
   "id": "b27ffac1",
   "metadata": {},
   "outputs": [],
   "source": [
    "addrMap={}\n",
    "with open(\"../data/dict/toAddrsAndCount.pkl\", \"rb\") as tf:\n",
    "    addrMap=pickle.load(tf)"
   ]
  },
  {
   "cell_type": "code",
   "execution_count": 111,
   "id": "876a7d82",
   "metadata": {},
   "outputs": [],
   "source": [
    "df = pd.DataFrame(columns=['toAddress','count'],dtype=int)"
   ]
  },
  {
   "cell_type": "code",
   "execution_count": 112,
   "id": "533f0ddd",
   "metadata": {},
   "outputs": [],
   "source": [
    "for key,value in addrMap.items():\n",
    "    if value==0:\n",
    "        continue\n",
    "    temp=pd.Series([key,value],index=df.columns)\n",
    "    df=df.append(temp,ignore_index=True)"
   ]
  },
  {
   "cell_type": "code",
   "execution_count": 115,
   "id": "8d733f67",
   "metadata": {},
   "outputs": [],
   "source": [
    "df.sort_values('count', ascending=False)\n",
    "temp_list=np.array(range(1,len(df)+1,1))\n",
    "df.index=pd.Series(temp_list)\n",
    "df.to_csv('../data/csv/toAddrsAndCount.csv') "
   ]
  },
  {
   "cell_type": "code",
   "execution_count": 123,
   "id": "32c244e3",
   "metadata": {},
   "outputs": [
    {
     "data": {
      "text/html": [
       "<div>\n",
       "<style scoped>\n",
       "    .dataframe tbody tr th:only-of-type {\n",
       "        vertical-align: middle;\n",
       "    }\n",
       "\n",
       "    .dataframe tbody tr th {\n",
       "        vertical-align: top;\n",
       "    }\n",
       "\n",
       "    .dataframe thead th {\n",
       "        text-align: right;\n",
       "    }\n",
       "</style>\n",
       "<table border=\"1\" class=\"dataframe\">\n",
       "  <thead>\n",
       "    <tr style=\"text-align: right;\">\n",
       "      <th></th>\n",
       "      <th>toAddress</th>\n",
       "      <th>count</th>\n",
       "    </tr>\n",
       "  </thead>\n",
       "  <tbody>\n",
       "    <tr>\n",
       "      <th>1</th>\n",
       "      <td>0xc02aaa39b223fe8d0a0e5c4f27ead9083c756cc2</td>\n",
       "      <td>231796</td>\n",
       "    </tr>\n",
       "    <tr>\n",
       "      <th>2</th>\n",
       "      <td>0xa0b86991c6218b36c1d19d4a2e9eb0ce3606eb48</td>\n",
       "      <td>32121</td>\n",
       "    </tr>\n",
       "    <tr>\n",
       "      <th>3</th>\n",
       "      <td>0xa2327a938febf5fec13bacfb16ae10ecbc4cbdcf</td>\n",
       "      <td>27128</td>\n",
       "    </tr>\n",
       "    <tr>\n",
       "      <th>4</th>\n",
       "      <td>0xdac17f958d2ee523a2206206994597c13d831ec7</td>\n",
       "      <td>23833</td>\n",
       "    </tr>\n",
       "    <tr>\n",
       "      <th>5</th>\n",
       "      <td>0x0000000000004946c0e9f43f4dee607b0ef1fa1c</td>\n",
       "      <td>13487</td>\n",
       "    </tr>\n",
       "    <tr>\n",
       "      <th>6</th>\n",
       "      <td>0xe592427a0aece92de3edee1f18e0157c05861564</td>\n",
       "      <td>11695</td>\n",
       "    </tr>\n",
       "    <tr>\n",
       "      <th>7</th>\n",
       "      <td>0x7a250d5630b4cf539739df2c5dacb4c659f2488d</td>\n",
       "      <td>10532</td>\n",
       "    </tr>\n",
       "    <tr>\n",
       "      <th>8</th>\n",
       "      <td>0x6b175474e89094c44da98b954eedeac495271d0f</td>\n",
       "      <td>9019</td>\n",
       "    </tr>\n",
       "    <tr>\n",
       "      <th>9</th>\n",
       "      <td>0x0d4a11d5eeaac28ec3f61d100daf4d40471f1852</td>\n",
       "      <td>7790</td>\n",
       "    </tr>\n",
       "    <tr>\n",
       "      <th>10</th>\n",
       "      <td>0xc176761d388caf2f56cf03329d82e1e7c48ae09c</td>\n",
       "      <td>7565</td>\n",
       "    </tr>\n",
       "    <tr>\n",
       "      <th>11</th>\n",
       "      <td>0xb4e16d0168e52d35cacd2c6185b44281ec28c9dc</td>\n",
       "      <td>7382</td>\n",
       "    </tr>\n",
       "    <tr>\n",
       "      <th>12</th>\n",
       "      <td>0x95ad61b0a150d79219dcf64e1e6cc01f0b64c4ce</td>\n",
       "      <td>6060</td>\n",
       "    </tr>\n",
       "    <tr>\n",
       "      <th>13</th>\n",
       "      <td>0xdb38ae75c5f44276803345f7f02e95a0aeef5944</td>\n",
       "      <td>5777</td>\n",
       "    </tr>\n",
       "    <tr>\n",
       "      <th>14</th>\n",
       "      <td>0xb7277a6e95992041568d9391d09d0122023778a2</td>\n",
       "      <td>5032</td>\n",
       "    </tr>\n",
       "    <tr>\n",
       "      <th>15</th>\n",
       "      <td>0x2260fac5e5542a773aa44fbcfedf7c193bc2c599</td>\n",
       "      <td>4965</td>\n",
       "    </tr>\n",
       "    <tr>\n",
       "      <th>16</th>\n",
       "      <td>0x88e6a0c2ddd26feeb64f039a2c41296fcb3f5640</td>\n",
       "      <td>4350</td>\n",
       "    </tr>\n",
       "    <tr>\n",
       "      <th>17</th>\n",
       "      <td>0xfd3dfb524b2da40c8a6d703c62be36b5d8540626</td>\n",
       "      <td>3863</td>\n",
       "    </tr>\n",
       "    <tr>\n",
       "      <th>18</th>\n",
       "      <td>0x811beed0119b4afce20d2583eb608c6f7af1954f</td>\n",
       "      <td>3765</td>\n",
       "    </tr>\n",
       "    <tr>\n",
       "      <th>19</th>\n",
       "      <td>0x18cedf1071ec25331130c82d7af71d393ccd4446</td>\n",
       "      <td>3754</td>\n",
       "    </tr>\n",
       "    <tr>\n",
       "      <th>20</th>\n",
       "      <td>0xf65b5c5104c4fafd4b709d9d60a185eae063276c</td>\n",
       "      <td>3753</td>\n",
       "    </tr>\n",
       "  </tbody>\n",
       "</table>\n",
       "</div>"
      ],
      "text/plain": [
       "                                     toAddress   count\n",
       "1   0xc02aaa39b223fe8d0a0e5c4f27ead9083c756cc2  231796\n",
       "2   0xa0b86991c6218b36c1d19d4a2e9eb0ce3606eb48   32121\n",
       "3   0xa2327a938febf5fec13bacfb16ae10ecbc4cbdcf   27128\n",
       "4   0xdac17f958d2ee523a2206206994597c13d831ec7   23833\n",
       "5   0x0000000000004946c0e9f43f4dee607b0ef1fa1c   13487\n",
       "6   0xe592427a0aece92de3edee1f18e0157c05861564   11695\n",
       "7   0x7a250d5630b4cf539739df2c5dacb4c659f2488d   10532\n",
       "8   0x6b175474e89094c44da98b954eedeac495271d0f    9019\n",
       "9   0x0d4a11d5eeaac28ec3f61d100daf4d40471f1852    7790\n",
       "10  0xc176761d388caf2f56cf03329d82e1e7c48ae09c    7565\n",
       "11  0xb4e16d0168e52d35cacd2c6185b44281ec28c9dc    7382\n",
       "12  0x95ad61b0a150d79219dcf64e1e6cc01f0b64c4ce    6060\n",
       "13  0xdb38ae75c5f44276803345f7f02e95a0aeef5944    5777\n",
       "14  0xb7277a6e95992041568d9391d09d0122023778a2    5032\n",
       "15  0x2260fac5e5542a773aa44fbcfedf7c193bc2c599    4965\n",
       "16  0x88e6a0c2ddd26feeb64f039a2c41296fcb3f5640    4350\n",
       "17  0xfd3dfb524b2da40c8a6d703c62be36b5d8540626    3863\n",
       "18  0x811beed0119b4afce20d2583eb608c6f7af1954f    3765\n",
       "19  0x18cedf1071ec25331130c82d7af71d393ccd4446    3754\n",
       "20  0xf65b5c5104c4fafd4b709d9d60a185eae063276c    3753"
      ]
     },
     "execution_count": 123,
     "metadata": {},
     "output_type": "execute_result"
    }
   ],
   "source": [
    "df=df.sort_values('count', ascending=False)\n",
    "temp_list=np.array(range(1,len(df)+1,1))\n",
    "df.index=pd.Series(temp_list)\n",
    "df.to_csv('../data/csv/toAddrsAndCount.csv') \n",
    "df.head(20)"
   ]
  },
  {
   "cell_type": "code",
   "execution_count": null,
   "id": "9b89de76",
   "metadata": {},
   "outputs": [],
   "source": []
  }
 ],
 "metadata": {
  "kernelspec": {
   "display_name": "sbwpy3",
   "language": "python",
   "name": "sbwpy3"
  },
  "language_info": {
   "codemirror_mode": {
    "name": "ipython",
    "version": 3
   },
   "file_extension": ".py",
   "mimetype": "text/x-python",
   "name": "python",
   "nbconvert_exporter": "python",
   "pygments_lexer": "ipython3",
   "version": "3.8.12"
  }
 },
 "nbformat": 4,
 "nbformat_minor": 5
}
